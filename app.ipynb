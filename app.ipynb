{
 "cells": [
  {
   "cell_type": "code",
   "execution_count": 5,
   "metadata": {},
   "outputs": [
    {
     "name": "stdout",
     "output_type": "stream",
     "text": [
      "Installing package: plotly\n",
      "Requirement already satisfied: plotly in /Library/Frameworks/Python.framework/Versions/3.11/lib/python3.11/site-packages (5.23.0)\n",
      "Requirement already satisfied: tenacity>=6.2.0 in /Library/Frameworks/Python.framework/Versions/3.11/lib/python3.11/site-packages (from plotly) (9.0.0)\n",
      "Requirement already satisfied: packaging in /Users/jacksonmckinley/Library/Python/3.11/lib/python/site-packages (from plotly) (24.1)\n",
      "Installing package: paramiko\n",
      "Requirement already satisfied: paramiko in /Library/Frameworks/Python.framework/Versions/3.11/lib/python3.11/site-packages (3.4.0)\n",
      "Requirement already satisfied: bcrypt>=3.2 in /Library/Frameworks/Python.framework/Versions/3.11/lib/python3.11/site-packages (from paramiko) (4.2.0)\n",
      "Requirement already satisfied: cryptography>=3.3 in /Library/Frameworks/Python.framework/Versions/3.11/lib/python3.11/site-packages (from paramiko) (43.0.0)\n",
      "Requirement already satisfied: pynacl>=1.5 in /Library/Frameworks/Python.framework/Versions/3.11/lib/python3.11/site-packages (from paramiko) (1.5.0)\n",
      "Requirement already satisfied: cffi>=1.12 in /Library/Frameworks/Python.framework/Versions/3.11/lib/python3.11/site-packages (from cryptography>=3.3->paramiko) (1.16.0)\n",
      "Requirement already satisfied: pycparser in /Library/Frameworks/Python.framework/Versions/3.11/lib/python3.11/site-packages (from cffi>=1.12->cryptography>=3.3->paramiko) (2.22)\n",
      "Installing package: numpy\n",
      "Requirement already satisfied: numpy in /Library/Frameworks/Python.framework/Versions/3.11/lib/python3.11/site-packages (1.26.4)\n",
      "Installing package: rdkit\n",
      "Requirement already satisfied: rdkit in /Library/Frameworks/Python.framework/Versions/3.11/lib/python3.11/site-packages (2024.3.3)\n",
      "Requirement already satisfied: numpy<2.0 in /Library/Frameworks/Python.framework/Versions/3.11/lib/python3.11/site-packages (from rdkit) (1.26.4)\n",
      "Requirement already satisfied: Pillow in /Library/Frameworks/Python.framework/Versions/3.11/lib/python3.11/site-packages (from rdkit) (10.4.0)\n",
      "Installing package: ipyvuetify\n",
      "Requirement already satisfied: ipyvuetify in /Library/Frameworks/Python.framework/Versions/3.11/lib/python3.11/site-packages (1.10.0)\n",
      "Requirement already satisfied: ipyvue<2,>=1.7 in /Library/Frameworks/Python.framework/Versions/3.11/lib/python3.11/site-packages (from ipyvuetify) (1.11.1)\n",
      "Requirement already satisfied: ipywidgets>=7.0.0 in /Library/Frameworks/Python.framework/Versions/3.11/lib/python3.11/site-packages (from ipyvue<2,>=1.7->ipyvuetify) (8.1.3)\n",
      "Requirement already satisfied: comm>=0.1.3 in /Users/jacksonmckinley/Library/Python/3.11/lib/python/site-packages (from ipywidgets>=7.0.0->ipyvue<2,>=1.7->ipyvuetify) (0.2.2)\n",
      "Requirement already satisfied: ipython>=6.1.0 in /Users/jacksonmckinley/Library/Python/3.11/lib/python/site-packages (from ipywidgets>=7.0.0->ipyvue<2,>=1.7->ipyvuetify) (8.26.0)\n",
      "Requirement already satisfied: traitlets>=4.3.1 in /Users/jacksonmckinley/Library/Python/3.11/lib/python/site-packages (from ipywidgets>=7.0.0->ipyvue<2,>=1.7->ipyvuetify) (5.14.3)\n",
      "Requirement already satisfied: widgetsnbextension~=4.0.11 in /Library/Frameworks/Python.framework/Versions/3.11/lib/python3.11/site-packages (from ipywidgets>=7.0.0->ipyvue<2,>=1.7->ipyvuetify) (4.0.11)\n",
      "Requirement already satisfied: jupyterlab-widgets~=3.0.11 in /Library/Frameworks/Python.framework/Versions/3.11/lib/python3.11/site-packages (from ipywidgets>=7.0.0->ipyvue<2,>=1.7->ipyvuetify) (3.0.11)\n",
      "Requirement already satisfied: decorator in /Users/jacksonmckinley/Library/Python/3.11/lib/python/site-packages (from ipython>=6.1.0->ipywidgets>=7.0.0->ipyvue<2,>=1.7->ipyvuetify) (5.1.1)\n",
      "Requirement already satisfied: jedi>=0.16 in /Users/jacksonmckinley/Library/Python/3.11/lib/python/site-packages (from ipython>=6.1.0->ipywidgets>=7.0.0->ipyvue<2,>=1.7->ipyvuetify) (0.19.1)\n",
      "Requirement already satisfied: matplotlib-inline in /Users/jacksonmckinley/Library/Python/3.11/lib/python/site-packages (from ipython>=6.1.0->ipywidgets>=7.0.0->ipyvue<2,>=1.7->ipyvuetify) (0.1.7)\n",
      "Requirement already satisfied: prompt-toolkit<3.1.0,>=3.0.41 in /Users/jacksonmckinley/Library/Python/3.11/lib/python/site-packages (from ipython>=6.1.0->ipywidgets>=7.0.0->ipyvue<2,>=1.7->ipyvuetify) (3.0.47)\n",
      "Requirement already satisfied: pygments>=2.4.0 in /Users/jacksonmckinley/Library/Python/3.11/lib/python/site-packages (from ipython>=6.1.0->ipywidgets>=7.0.0->ipyvue<2,>=1.7->ipyvuetify) (2.18.0)\n",
      "Requirement already satisfied: stack-data in /Users/jacksonmckinley/Library/Python/3.11/lib/python/site-packages (from ipython>=6.1.0->ipywidgets>=7.0.0->ipyvue<2,>=1.7->ipyvuetify) (0.6.3)\n",
      "Requirement already satisfied: typing-extensions>=4.6 in /Users/jacksonmckinley/Library/Python/3.11/lib/python/site-packages (from ipython>=6.1.0->ipywidgets>=7.0.0->ipyvue<2,>=1.7->ipyvuetify) (4.12.2)\n",
      "Requirement already satisfied: pexpect>4.3 in /Users/jacksonmckinley/Library/Python/3.11/lib/python/site-packages (from ipython>=6.1.0->ipywidgets>=7.0.0->ipyvue<2,>=1.7->ipyvuetify) (4.9.0)\n",
      "Requirement already satisfied: parso<0.9.0,>=0.8.3 in /Users/jacksonmckinley/Library/Python/3.11/lib/python/site-packages (from jedi>=0.16->ipython>=6.1.0->ipywidgets>=7.0.0->ipyvue<2,>=1.7->ipyvuetify) (0.8.4)\n",
      "Requirement already satisfied: ptyprocess>=0.5 in /Users/jacksonmckinley/Library/Python/3.11/lib/python/site-packages (from pexpect>4.3->ipython>=6.1.0->ipywidgets>=7.0.0->ipyvue<2,>=1.7->ipyvuetify) (0.7.0)\n",
      "Requirement already satisfied: wcwidth in /Users/jacksonmckinley/Library/Python/3.11/lib/python/site-packages (from prompt-toolkit<3.1.0,>=3.0.41->ipython>=6.1.0->ipywidgets>=7.0.0->ipyvue<2,>=1.7->ipyvuetify) (0.2.13)\n",
      "Requirement already satisfied: executing>=1.2.0 in /Users/jacksonmckinley/Library/Python/3.11/lib/python/site-packages (from stack-data->ipython>=6.1.0->ipywidgets>=7.0.0->ipyvue<2,>=1.7->ipyvuetify) (2.0.1)\n",
      "Requirement already satisfied: asttokens>=2.1.0 in /Users/jacksonmckinley/Library/Python/3.11/lib/python/site-packages (from stack-data->ipython>=6.1.0->ipywidgets>=7.0.0->ipyvue<2,>=1.7->ipyvuetify) (2.4.1)\n",
      "Requirement already satisfied: pure-eval in /Users/jacksonmckinley/Library/Python/3.11/lib/python/site-packages (from stack-data->ipython>=6.1.0->ipywidgets>=7.0.0->ipyvue<2,>=1.7->ipyvuetify) (0.2.3)\n",
      "Requirement already satisfied: six>=1.12.0 in /Users/jacksonmckinley/Library/Python/3.11/lib/python/site-packages (from asttokens>=2.1.0->stack-data->ipython>=6.1.0->ipywidgets>=7.0.0->ipyvue<2,>=1.7->ipyvuetify) (1.16.0)\n",
      "Installing package: ipywidgets\n",
      "Requirement already satisfied: ipywidgets in /Library/Frameworks/Python.framework/Versions/3.11/lib/python3.11/site-packages (8.1.3)\n",
      "Requirement already satisfied: comm>=0.1.3 in /Users/jacksonmckinley/Library/Python/3.11/lib/python/site-packages (from ipywidgets) (0.2.2)\n",
      "Requirement already satisfied: ipython>=6.1.0 in /Users/jacksonmckinley/Library/Python/3.11/lib/python/site-packages (from ipywidgets) (8.26.0)\n",
      "Requirement already satisfied: traitlets>=4.3.1 in /Users/jacksonmckinley/Library/Python/3.11/lib/python/site-packages (from ipywidgets) (5.14.3)\n",
      "Requirement already satisfied: widgetsnbextension~=4.0.11 in /Library/Frameworks/Python.framework/Versions/3.11/lib/python3.11/site-packages (from ipywidgets) (4.0.11)\n",
      "Requirement already satisfied: jupyterlab-widgets~=3.0.11 in /Library/Frameworks/Python.framework/Versions/3.11/lib/python3.11/site-packages (from ipywidgets) (3.0.11)\n",
      "Requirement already satisfied: decorator in /Users/jacksonmckinley/Library/Python/3.11/lib/python/site-packages (from ipython>=6.1.0->ipywidgets) (5.1.1)\n",
      "Requirement already satisfied: jedi>=0.16 in /Users/jacksonmckinley/Library/Python/3.11/lib/python/site-packages (from ipython>=6.1.0->ipywidgets) (0.19.1)\n",
      "Requirement already satisfied: matplotlib-inline in /Users/jacksonmckinley/Library/Python/3.11/lib/python/site-packages (from ipython>=6.1.0->ipywidgets) (0.1.7)\n",
      "Requirement already satisfied: prompt-toolkit<3.1.0,>=3.0.41 in /Users/jacksonmckinley/Library/Python/3.11/lib/python/site-packages (from ipython>=6.1.0->ipywidgets) (3.0.47)\n",
      "Requirement already satisfied: pygments>=2.4.0 in /Users/jacksonmckinley/Library/Python/3.11/lib/python/site-packages (from ipython>=6.1.0->ipywidgets) (2.18.0)\n",
      "Requirement already satisfied: stack-data in /Users/jacksonmckinley/Library/Python/3.11/lib/python/site-packages (from ipython>=6.1.0->ipywidgets) (0.6.3)\n",
      "Requirement already satisfied: typing-extensions>=4.6 in /Users/jacksonmckinley/Library/Python/3.11/lib/python/site-packages (from ipython>=6.1.0->ipywidgets) (4.12.2)\n",
      "Requirement already satisfied: pexpect>4.3 in /Users/jacksonmckinley/Library/Python/3.11/lib/python/site-packages (from ipython>=6.1.0->ipywidgets) (4.9.0)\n",
      "Requirement already satisfied: parso<0.9.0,>=0.8.3 in /Users/jacksonmckinley/Library/Python/3.11/lib/python/site-packages (from jedi>=0.16->ipython>=6.1.0->ipywidgets) (0.8.4)\n",
      "Requirement already satisfied: ptyprocess>=0.5 in /Users/jacksonmckinley/Library/Python/3.11/lib/python/site-packages (from pexpect>4.3->ipython>=6.1.0->ipywidgets) (0.7.0)\n",
      "Requirement already satisfied: wcwidth in /Users/jacksonmckinley/Library/Python/3.11/lib/python/site-packages (from prompt-toolkit<3.1.0,>=3.0.41->ipython>=6.1.0->ipywidgets) (0.2.13)\n",
      "Requirement already satisfied: executing>=1.2.0 in /Users/jacksonmckinley/Library/Python/3.11/lib/python/site-packages (from stack-data->ipython>=6.1.0->ipywidgets) (2.0.1)\n",
      "Requirement already satisfied: asttokens>=2.1.0 in /Users/jacksonmckinley/Library/Python/3.11/lib/python/site-packages (from stack-data->ipython>=6.1.0->ipywidgets) (2.4.1)\n",
      "Requirement already satisfied: pure-eval in /Users/jacksonmckinley/Library/Python/3.11/lib/python/site-packages (from stack-data->ipython>=6.1.0->ipywidgets) (0.2.3)\n",
      "Requirement already satisfied: six>=1.12.0 in /Users/jacksonmckinley/Library/Python/3.11/lib/python/site-packages (from asttokens>=2.1.0->stack-data->ipython>=6.1.0->ipywidgets) (1.16.0)\n",
      "Installing package: IPython.display\n"
     ]
    },
    {
     "name": "stderr",
     "output_type": "stream",
     "text": [
      "\u001b[31mERROR: Could not find a version that satisfies the requirement IPython.display (from versions: none)\u001b[0m\u001b[31m\n",
      "\u001b[0m\u001b[31mERROR: No matching distribution found for IPython.display\u001b[0m\u001b[31m\n",
      "\u001b[0m"
     ]
    }
   ],
   "source": [
    "import subprocess\n",
    "\n",
    "def install_packages_from_requirements(file_path):\n",
    "    with open(file_path, 'r') as file:\n",
    "        lines = file.readlines()\n",
    "        \n",
    "    for line in lines:\n",
    "        package = line.strip()\n",
    "        if package:\n",
    "            print(f\"Installing package: {package}\")\n",
    "            subprocess.run(['pip', 'install', package])\n",
    "\n",
    "\n",
    "install_packages_from_requirements('requirements.txt')"
   ]
  },
  {
   "cell_type": "code",
   "execution_count": 6,
   "metadata": {},
   "outputs": [
    {
     "data": {
      "application/vnd.jupyter.widget-view+json": {
       "model_id": "5b4d0cb4739d4c598f184ba9d072054c",
       "version_major": 2,
       "version_minor": 0
      },
      "text/plain": [
       "Container(children=[Row(children=[TextField(label='Enter text here', layout=None, v_model='')], layout=None), …"
      ]
     },
     "metadata": {},
     "output_type": "display_data"
    }
   ],
   "source": [
    "import ipyvuetify as v\n",
    "import ipywidgets as widgets\n",
    "from IPython.display import display\n",
    "\n",
    "# Create a text field\n",
    "text_field = v.TextField(label=\"Enter text here\", v_model=\"\")\n",
    "\n",
    "# Create a button\n",
    "button = v.Btn(children=[\"Submit\"])\n",
    "\n",
    "# Create an output widget to display results\n",
    "output = widgets.Output()\n",
    "\n",
    "# Define the button click event handler\n",
    "def on_button_click(widget, event, data):\n",
    "    with output:\n",
    "        output.clear_output()\n",
    "        print(f\"Button clicked! Text: {text_field.v_model}\")\n",
    "\n",
    "# Bind the event handler to the button click event\n",
    "button.on_event('click', on_button_click)\n",
    "\n",
    "# Layout the components\n",
    "layout = v.Container(\n",
    "    children=[\n",
    "        v.Row(children=[text_field]),\n",
    "        v.Row(children=[button]),\n",
    "        v.Row(children=[output]),\n",
    "    ]\n",
    ")\n",
    "\n",
    "# Display the UI\n",
    "display(layout)\n"
   ]
  }
 ],
 "metadata": {
  "kernelspec": {
   "display_name": "Python 3",
   "language": "python",
   "name": "python3"
  },
  "language_info": {
   "codemirror_mode": {
    "name": "ipython",
    "version": 3
   },
   "file_extension": ".py",
   "mimetype": "text/x-python",
   "name": "python",
   "nbconvert_exporter": "python",
   "pygments_lexer": "ipython3",
   "version": "3.11.1"
  }
 },
 "nbformat": 4,
 "nbformat_minor": 2
}
